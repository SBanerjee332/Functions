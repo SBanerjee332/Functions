{
  "nbformat": 4,
  "nbformat_minor": 0,
  "metadata": {
    "colab": {
      "provenance": []
    },
    "kernelspec": {
      "name": "python3",
      "display_name": "Python 3"
    },
    "language_info": {
      "name": "python"
    }
  },
  "cells": [
    {
      "cell_type": "markdown",
      "source": [
        " 1.What is the difference between a function and a method in Python?\n",
        " A function is a standalone block of code, while a method is a function that is defined within a class and is associated with an object"
      ],
      "metadata": {
        "id": "Af7-Ru6ODQd2"
      }
    },
    {
      "cell_type": "markdown",
      "source": [
        "2. Explain the concept of function arguments and parameters in Python.\n",
        "   Parameters are the variables listed in a function's definition. Arguments are the actual values passed to the function when it is called."
      ],
      "metadata": {
        "id": "h35bzjFkDkU4"
      }
    },
    {
      "cell_type": "markdown",
      "source": [
        "3. What are the different ways to define and call a function in Python ?\n",
        "   Functions are defined with the def keyword and called using their name followed by parentheses ()."
      ],
      "metadata": {
        "id": "qPwBg_JPD7U1"
      }
    },
    {
      "cell_type": "markdown",
      "source": [
        "4.  What is the purpose of the `return` statement in a Python function?\n",
        "    The return statement exits a function and sends a value back to the caller. If no value is specified, it returns None."
      ],
      "metadata": {
        "id": "a1yfVERwEKZX"
      }
    },
    {
      "cell_type": "markdown",
      "source": [
        "5. What are iterators in Python and how do they differ from iterables?\n",
        "   An iterable is an object capable of returning its elements one at a time (e.g., a list). An iterator is the object that performs the iteration, obtained from an iterable via iter().\n"
      ],
      "metadata": {
        "id": "-8uB4li_Ebuz"
      }
    },
    {
      "cell_type": "markdown",
      "source": [
        "6. Explain the concept of generators in Python and how they are defined.\n",
        "   Generators are functions that yield a sequence of values lazily, using the yield keyword instead of return. They are defined like a regular function."
      ],
      "metadata": {
        "id": "OUJWvF77EtAq"
      }
    },
    {
      "cell_type": "markdown",
      "source": [
        "7. What are the advantages of using generators over regular functions ?\n",
        "   Generators are memory efficient as they produce items one at a time and only when needed, unlike functions that compute all values at once and return them in a list."
      ],
      "metadata": {
        "id": "AyS1xGYEE6D1"
      }
    },
    {
      "cell_type": "markdown",
      "source": [
        "8. What is a lambda function in Python and when is it typically used?\n",
        "   A lambda function is a small, anonymous function defined with the lambda keyword. It is typically used for short, simple operations passed as arguments."
      ],
      "metadata": {
        "id": "sGOBAPXUFyj7"
      }
    },
    {
      "cell_type": "markdown",
      "source": [
        "9. Explain the purpose and usage of the `map()` function in Python.\n",
        "   The map() function applies a given function to every item of an iterable and returns a map object (an iterator) with the results."
      ],
      "metadata": {
        "id": "mKVaox8-F4ho"
      }
    },
    {
      "cell_type": "markdown",
      "source": [
        "10. What is the difference between `map()`, `reduce()`, and `filter()`      functions in Python ?\n",
        "   map() applies a function to all items in an iterable. filter() selects items that meet a condition. reduce() (from functools) cumulatively applies a function to reduce the iterable to a single value.\n",
        "\n",
        "   "
      ],
      "metadata": {
        "id": "wzF_oM12H4dr"
      }
    },
    {
      "cell_type": "code",
      "source": [
        "# Write a Python function that takes a list of numbers as input and returns the\n",
        "#sum of all even numbers in the list.\n",
        "def sum_even(numbers):\n",
        "    total = 0\n",
        "    for num in numbers:\n",
        "        if num % 2 == 0:\n",
        "            total += num\n",
        "    return total\n"
      ],
      "metadata": {
        "id": "FlGYRmOIE4v_"
      },
      "execution_count": 3,
      "outputs": []
    },
    {
      "cell_type": "code",
      "source": [
        "# Reverse a string\n",
        "def reverse_string(string):\n",
        "    return string[::-1]"
      ],
      "metadata": {
        "id": "cAFkJm-rJJRI"
      },
      "execution_count": 4,
      "outputs": []
    },
    {
      "cell_type": "code",
      "source": [
        "#Square each number\n",
        "def square_numbers(numbers):\n",
        "    squares = []\n",
        "    for num in numbers:\n",
        "        squares.append(num * num)\n",
        "    return squares"
      ],
      "metadata": {
        "id": "46Cv8p4eJZZT"
      },
      "execution_count": 5,
      "outputs": []
    },
    {
      "cell_type": "code",
      "source": [
        "#Check prime numbers (1-200)\n",
        "def is_prime(num):\n",
        "    if num < 2:\n",
        "        return False\n",
        "    for i in range(2, int(num ** 0.5) + 1):\n",
        "        if num % i == 0:\n",
        "            return False\n",
        "    return True"
      ],
      "metadata": {
        "id": "GGHx9wwXJlcC"
      },
      "execution_count": 6,
      "outputs": []
    },
    {
      "cell_type": "code",
      "source": [
        "#Fibonacci iterator class\n",
        "class Fibonacci:\n",
        "    def __init__(self, terms):\n",
        "        self.terms = terms\n",
        "        self.a, self.b = 0, 1\n",
        "        self.count = 0\n",
        "\n",
        "    def __iter__(self):\n",
        "        return self\n",
        "\n",
        "    def __next__(self):\n",
        "        if self.count >= self.terms:\n",
        "            raise StopIteration\n",
        "        result = self.a\n",
        "        self.a, self.b = self.b, self.a + self.b\n",
        "        self.count += 1\n",
        "        return result"
      ],
      "metadata": {
        "id": "w8U5Uty2KDhB"
      },
      "execution_count": 8,
      "outputs": []
    },
    {
      "cell_type": "code",
      "source": [
        "#Powers of 2 generator\n",
        "def powers_of_two(max_exp):\n",
        "    exp = 0\n",
        "    while exp <= max_exp:\n",
        "        yield 2 ** exp\n",
        "        exp += 1\n"
      ],
      "metadata": {
        "id": "pIey0LrpKOGU"
      },
      "execution_count": 9,
      "outputs": []
    },
    {
      "cell_type": "code",
      "source": [
        "#File line reader generator\n",
        "def read_file_lines(filename):\n",
        "    with open(filename, 'r') as file:\n",
        "        for line in file:\n",
        "            yield line"
      ],
      "metadata": {
        "id": "RR2HMC-rK32Y"
      },
      "execution_count": 10,
      "outputs": []
    },
    {
      "cell_type": "code",
      "source": [
        "# Sort tuples by second element\n",
        "def sort_tuples(tuples):\n",
        "    return sorted(tuples, key=lambda x: x[1])"
      ],
      "metadata": {
        "id": "04RSJ41DK9J9"
      },
      "execution_count": 11,
      "outputs": []
    },
    {
      "cell_type": "code",
      "source": [
        "#Celsius to Fahrenheit conversion\n",
        "def celsius_to_fahrenheit(celsius):\n",
        "    return (celsius * 9/5) + 32"
      ],
      "metadata": {
        "id": "G1Wcz87ULGQZ"
      },
      "execution_count": 12,
      "outputs": []
    },
    {
      "cell_type": "code",
      "source": [
        "# Remove vowels from string\n",
        "def remove_vowels(text):\n",
        "    vowels = \"aeiouAEIOU\"\n",
        "    return ''.join(filter(lambda char: char not in vowels, text))"
      ],
      "metadata": {
        "id": "eAwYwNKnLPu2"
      },
      "execution_count": 13,
      "outputs": []
    }
  ]
}